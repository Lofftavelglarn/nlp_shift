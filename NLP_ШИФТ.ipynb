{
  "cells": [
    {
      "cell_type": "markdown",
      "metadata": {
        "id": "Y68bdscCxK_Y"
      },
      "source": [
        "**Задача**\n",
        "\n",
        "1) Создать синтетический набор данных используя открытую LLM для решения поставленной задачи\n",
        "\n",
        "2) Обучить модель классификации текста на основе созданного набора данных используя трансформерную модель энкодер (например BERT)"
      ]
    },
    {
      "cell_type": "markdown",
      "metadata": {
        "id": "mJ8K5Hxyu7dr"
      },
      "source": [
        "**Генерация данных**\n",
        "\n",
        "Требования к данным:  \n",
        "\n",
        "1)Набор даных должен представлять диалоги клиентов с поддержкой на тему банковских услуг (кредиты, денежные переводы и т.д).\n",
        "\n",
        "2)Набор данных должен быть создан для решения задачи классификации последнего сообщения пользователя в диалоге - (класс - текущий вопрос пользователя по которому будет выдаваться некоторые заранее заготовленный ответ)\n",
        "\n",
        "3)В Наборе данных должно быть не менее 15 классов (больше можно), выполняющий имеет свободу выбора сам составить предполагаемые классы сообщений или же сгенерировать их. Для каждого класса нужно сгенерировать не менее 20 различны примеров для обучения и 10 для теста.\n",
        "\n",
        "4) Формат данных:\n",
        "\n",
        "{\"label\": 'transfer_status',\n",
        "\n",
        "\"dialog\":\n",
        "\n",
        "\"user: Привет! можете помочь мне ?\n",
        "\n",
        "assistant: Здравствуйте! В чем ваш вопрос?\n",
        "\n",
        "user: Мой перевод все еше не пришел, какой у него cтатус ?\"}\n",
        "\n",
        "5) Напоминание, класс определяется именно для последнего сообщения в контексте диалога, а не для последнего сообщения в отдельности или же диалога в целом."
      ]
    },
    {
      "cell_type": "markdown",
      "metadata": {
        "id": "ZnO4sxkJxJUA"
      },
      "source": [
        "**Что поможет**\n",
        "\n",
        "1) Все модели и гайды искать на https://huggingface.co/\n",
        "\n",
        "2) Модель можно запустить как через transformers, так и через специализированные движки (приветствуется ) llama.cpp / VLLM\n",
        "\n",
        "3)Ресурсов Colab или же Kaggle достаточно для генерации за 1 итерацию."
      ]
    },
    {
      "cell_type": "markdown",
      "metadata": {
        "id": "1X2QmKFEyE9c"
      },
      "source": [
        "**Обучение классификатора**\n",
        "\n",
        "1) Достаточный вариант - реализовать обучение через Trainer из huggingface transformers, на портале есть множество гайдов в том числе для решения задачи классификации текста с помощью моделей энкодеров (например BERT)\n",
        "\n",
        "2)При желании можно показать свои навыки в написании кастомных циклов обучения, не используя готовый класс Trainer\n",
        "\n",
        "3)Желательно использовать transformers + pytorch, другие варианты (например через tensorflow также будут проверяться, но этот фреймворк редко используется в практике проверяющих)"
      ]
    },
    {
      "cell_type": "code",
      "execution_count": 1,
      "metadata": {
        "id": "MUSuUYtOyOWi"
      },
      "outputs": [
        {
          "name": "stderr",
          "output_type": "stream",
          "text": [
            "c:\\Users\\makar\\AppData\\Local\\Programs\\Python\\Python312\\Lib\\site-packages\\tqdm\\auto.py:21: TqdmWarning: IProgress not found. Please update jupyter and ipywidgets. See https://ipywidgets.readthedocs.io/en/stable/user_install.html\n",
            "  from .autonotebook import tqdm as notebook_tqdm\n"
          ]
        },
        {
          "name": "stdout",
          "output_type": "stream",
          "text": [
            "WARNING:tensorflow:From c:\\Users\\makar\\AppData\\Local\\Programs\\Python\\Python312\\Lib\\site-packages\\tf_keras\\src\\losses.py:2976: The name tf.losses.sparse_softmax_cross_entropy is deprecated. Please use tf.compat.v1.losses.sparse_softmax_cross_entropy instead.\n",
            "\n"
          ]
        }
      ],
      "source": [
        "import pandas as pd\n",
        "from sklearn.model_selection import train_test_split\n",
        "from transformers import BertTokenizer, BertForSequenceClassification, Trainer, TrainingArguments\n",
        "import torch\n",
        "from torch.utils.data import Dataset\n",
        "from io import StringIO"
      ]
    },
    {
      "cell_type": "code",
      "execution_count": 2,
      "metadata": {},
      "outputs": [],
      "source": [
        "with open('dataset.txt', 'r', encoding='utf-8') as file:\n",
        "    data_content = file.read()\n",
        "\n",
        "data_io = StringIO(data_content)\n",
        "\n",
        "data = pd.read_json(data_io)\n"
      ]
    },
    {
      "cell_type": "code",
      "execution_count": 3,
      "metadata": {},
      "outputs": [],
      "source": [
        "unique_labels = data['label'].unique()\n",
        "label_to_code = {label: code for code, label in enumerate(unique_labels)}\n",
        "data['label'] = data['label'].map(label_to_code)"
      ]
    },
    {
      "cell_type": "code",
      "execution_count": 4,
      "metadata": {},
      "outputs": [
        {
          "name": "stdout",
          "output_type": "stream",
          "text": [
            "(539, 2)\n",
            "(525, 2)\n"
          ]
        }
      ],
      "source": [
        "print(data.shape)\n",
        "data = data.drop_duplicates()\n",
        "\n",
        "print(data.shape)\n"
      ]
    },
    {
      "cell_type": "code",
      "execution_count": 5,
      "metadata": {},
      "outputs": [],
      "source": [
        "train_data = []\n",
        "test_data = []\n",
        "\n",
        "for label in data['label'].unique():\n",
        "    class_data = data[data['label'] == label]\n",
        "    train_samples, test_samples = train_test_split(class_data, test_size=0.33, random_state=42)\n",
        "    train_data.append(train_samples)\n",
        "    test_data.append(test_samples)\n",
        "\n",
        "train_data = pd.concat(train_data)\n",
        "test_data = pd.concat(test_data)"
      ]
    },
    {
      "cell_type": "code",
      "execution_count": 6,
      "metadata": {},
      "outputs": [
        {
          "data": {
            "text/html": [
              "<div>\n",
              "<style scoped>\n",
              "    .dataframe tbody tr th:only-of-type {\n",
              "        vertical-align: middle;\n",
              "    }\n",
              "\n",
              "    .dataframe tbody tr th {\n",
              "        vertical-align: top;\n",
              "    }\n",
              "\n",
              "    .dataframe thead th {\n",
              "        text-align: right;\n",
              "    }\n",
              "</style>\n",
              "<table border=\"1\" class=\"dataframe\">\n",
              "  <thead>\n",
              "    <tr style=\"text-align: right;\">\n",
              "      <th></th>\n",
              "      <th>label</th>\n",
              "      <th>dialog</th>\n",
              "    </tr>\n",
              "  </thead>\n",
              "  <tbody>\n",
              "    <tr>\n",
              "      <th>0</th>\n",
              "      <td>0</td>\n",
              "      <td>user: Привет! Какой статус моего перевода?</td>\n",
              "    </tr>\n",
              "    <tr>\n",
              "      <th>1</th>\n",
              "      <td>0</td>\n",
              "      <td>user: Здравствуйте! Когда я могу ожидать перевод?</td>\n",
              "    </tr>\n",
              "    <tr>\n",
              "      <th>2</th>\n",
              "      <td>0</td>\n",
              "      <td>user: Мой перевод задерживается, что происходит?</td>\n",
              "    </tr>\n",
              "    <tr>\n",
              "      <th>3</th>\n",
              "      <td>0</td>\n",
              "      <td>user: Я не получил перевод, можете проверить?</td>\n",
              "    </tr>\n",
              "    <tr>\n",
              "      <th>4</th>\n",
              "      <td>0</td>\n",
              "      <td>user: Как долго еще ждать перевод?</td>\n",
              "    </tr>\n",
              "  </tbody>\n",
              "</table>\n",
              "</div>"
            ],
            "text/plain": [
              "   label                                             dialog\n",
              "0      0         user: Привет! Какой статус моего перевода?\n",
              "1      0  user: Здравствуйте! Когда я могу ожидать перевод?\n",
              "2      0   user: Мой перевод задерживается, что происходит?\n",
              "3      0      user: Я не получил перевод, можете проверить?\n",
              "4      0                 user: Как долго еще ждать перевод?"
            ]
          },
          "execution_count": 6,
          "metadata": {},
          "output_type": "execute_result"
        }
      ],
      "source": [
        "data[data['label'] == 0].head(5)"
      ]
    },
    {
      "cell_type": "code",
      "execution_count": 7,
      "metadata": {},
      "outputs": [
        {
          "name": "stdout",
          "output_type": "stream",
          "text": [
            "label\n",
            "2     12\n",
            "3     12\n",
            "4     12\n",
            "0     11\n",
            "1     11\n",
            "5     11\n",
            "6     11\n",
            "7     11\n",
            "8     11\n",
            "9     11\n",
            "10    11\n",
            "11    11\n",
            "12    11\n",
            "13    11\n",
            "14    11\n",
            "15    11\n",
            "Name: count, dtype: int64\n"
          ]
        }
      ],
      "source": [
        "class_counts = test_data['label'].value_counts()\n",
        "\n",
        "print(class_counts)"
      ]
    },
    {
      "cell_type": "code",
      "execution_count": 8,
      "metadata": {},
      "outputs": [
        {
          "data": {
            "text/plain": [
              "(346, 2)"
            ]
          },
          "execution_count": 8,
          "metadata": {},
          "output_type": "execute_result"
        }
      ],
      "source": [
        "train_data.shape"
      ]
    },
    {
      "cell_type": "code",
      "execution_count": 9,
      "metadata": {},
      "outputs": [],
      "source": [
        "class CustomDataset(Dataset):\n",
        "    def __init__(self, texts, labels, tokenizer, max_length):\n",
        "        self.texts = texts\n",
        "        self.labels = labels\n",
        "        self.tokenizer = tokenizer\n",
        "        self.max_length = max_length\n",
        "\n",
        "    def __len__(self):\n",
        "        return len(self.texts)\n",
        "\n",
        "    def __getitem__(self, idx):\n",
        "        text = self.texts[idx]\n",
        "        label = self.labels[idx]\n",
        "        encoding = self.tokenizer.encode_plus(\n",
        "            text,\n",
        "            add_special_tokens=True,\n",
        "            max_length=self.max_length,\n",
        "            return_token_type_ids=False,\n",
        "            padding='max_length',\n",
        "            truncation=True,\n",
        "            return_attention_mask=True,\n",
        "            return_tensors='pt',\n",
        "        )\n",
        "        return {\n",
        "            'input_ids': encoding['input_ids'].flatten(),\n",
        "            'attention_mask': encoding['attention_mask'].flatten(),\n",
        "            'labels': torch.tensor(label, dtype=torch.long)\n",
        "        }\n"
      ]
    },
    {
      "cell_type": "code",
      "execution_count": 10,
      "metadata": {},
      "outputs": [
        {
          "name": "stderr",
          "output_type": "stream",
          "text": [
            "Some weights of BertForSequenceClassification were not initialized from the model checkpoint at bert-base-uncased and are newly initialized: ['classifier.bias', 'classifier.weight']\n",
            "You should probably TRAIN this model on a down-stream task to be able to use it for predictions and inference.\n"
          ]
        }
      ],
      "source": [
        "tokenizer = BertTokenizer.from_pretrained('bert-base-uncased')\n",
        "\n",
        "train_dataset = CustomDataset(train_data['dialog'].tolist(), train_data['label'].tolist(), tokenizer, max_length=128)\n",
        "test_dataset = CustomDataset(test_data['dialog'].tolist(), test_data['label'].tolist(), tokenizer, max_length=128)\n",
        "\n",
        "model = BertForSequenceClassification.from_pretrained('bert-base-uncased', num_labels=len(data['label'].unique()))"
      ]
    },
    {
      "cell_type": "code",
      "execution_count": 11,
      "metadata": {},
      "outputs": [],
      "source": [
        "training_args = TrainingArguments(\n",
        "    output_dir='./results',\n",
        "    num_train_epochs=10,\n",
        "    per_device_train_batch_size=16,\n",
        "    per_device_eval_batch_size=16,\n",
        "    warmup_steps=200,\n",
        "    weight_decay=0.01,\n",
        "    logging_dir='./logs',\n",
        "    logging_steps=10,\n",
        "    learning_rate=0.0002,\n",
        ")\n",
        "\n",
        "trainer = Trainer(\n",
        "    model=model,\n",
        "    args=training_args,\n",
        "    train_dataset=train_dataset,\n",
        "    eval_dataset=test_dataset,\n",
        ")"
      ]
    },
    {
      "cell_type": "code",
      "execution_count": 12,
      "metadata": {},
      "outputs": [
        {
          "name": "stderr",
          "output_type": "stream",
          "text": [
            "  5%|▍         | 10/220 [00:30<10:57,  3.13s/it]"
          ]
        },
        {
          "name": "stdout",
          "output_type": "stream",
          "text": [
            "{'loss': 2.7886, 'grad_norm': 8.25777530670166, 'learning_rate': 1e-05, 'epoch': 0.45}\n"
          ]
        },
        {
          "name": "stderr",
          "output_type": "stream",
          "text": [
            "  9%|▉         | 20/220 [01:04<11:19,  3.40s/it]"
          ]
        },
        {
          "name": "stdout",
          "output_type": "stream",
          "text": [
            "{'loss': 2.8186, 'grad_norm': 12.247207641601562, 'learning_rate': 2e-05, 'epoch': 0.91}\n"
          ]
        },
        {
          "name": "stderr",
          "output_type": "stream",
          "text": [
            " 14%|█▎        | 30/220 [01:37<10:38,  3.36s/it]"
          ]
        },
        {
          "name": "stdout",
          "output_type": "stream",
          "text": [
            "{'loss': 2.7332, 'grad_norm': 13.262642860412598, 'learning_rate': 3e-05, 'epoch': 1.36}\n"
          ]
        },
        {
          "name": "stderr",
          "output_type": "stream",
          "text": [
            " 18%|█▊        | 40/220 [02:10<09:46,  3.26s/it]"
          ]
        },
        {
          "name": "stdout",
          "output_type": "stream",
          "text": [
            "{'loss': 2.705, 'grad_norm': 6.306149959564209, 'learning_rate': 4e-05, 'epoch': 1.82}\n"
          ]
        },
        {
          "name": "stderr",
          "output_type": "stream",
          "text": [
            " 23%|██▎       | 50/220 [02:41<09:07,  3.22s/it]"
          ]
        },
        {
          "name": "stdout",
          "output_type": "stream",
          "text": [
            "{'loss': 2.7274, 'grad_norm': 5.164916515350342, 'learning_rate': 5e-05, 'epoch': 2.27}\n"
          ]
        },
        {
          "name": "stderr",
          "output_type": "stream",
          "text": [
            " 27%|██▋       | 60/220 [03:15<08:57,  3.36s/it]"
          ]
        },
        {
          "name": "stdout",
          "output_type": "stream",
          "text": [
            "{'loss': 2.5874, 'grad_norm': 8.385963439941406, 'learning_rate': 6e-05, 'epoch': 2.73}\n"
          ]
        },
        {
          "name": "stderr",
          "output_type": "stream",
          "text": [
            " 32%|███▏      | 70/220 [03:47<08:06,  3.24s/it]"
          ]
        },
        {
          "name": "stdout",
          "output_type": "stream",
          "text": [
            "{'loss': 2.5794, 'grad_norm': 19.83440589904785, 'learning_rate': 7e-05, 'epoch': 3.18}\n"
          ]
        },
        {
          "name": "stderr",
          "output_type": "stream",
          "text": [
            " 36%|███▋      | 80/220 [04:21<07:47,  3.34s/it]"
          ]
        },
        {
          "name": "stdout",
          "output_type": "stream",
          "text": [
            "{'loss': 2.5383, 'grad_norm': 8.409761428833008, 'learning_rate': 8e-05, 'epoch': 3.64}\n"
          ]
        },
        {
          "name": "stderr",
          "output_type": "stream",
          "text": [
            " 41%|████      | 90/220 [04:53<06:45,  3.12s/it]"
          ]
        },
        {
          "name": "stdout",
          "output_type": "stream",
          "text": [
            "{'loss': 2.41, 'grad_norm': 8.126541137695312, 'learning_rate': 9e-05, 'epoch': 4.09}\n"
          ]
        },
        {
          "name": "stderr",
          "output_type": "stream",
          "text": [
            " 45%|████▌     | 100/220 [05:27<06:53,  3.44s/it]"
          ]
        },
        {
          "name": "stdout",
          "output_type": "stream",
          "text": [
            "{'loss': 2.2883, 'grad_norm': 8.456411361694336, 'learning_rate': 0.0001, 'epoch': 4.55}\n"
          ]
        },
        {
          "name": "stderr",
          "output_type": "stream",
          "text": [
            " 50%|█████     | 110/220 [06:00<05:38,  3.07s/it]"
          ]
        },
        {
          "name": "stdout",
          "output_type": "stream",
          "text": [
            "{'loss': 2.2031, 'grad_norm': 7.525096893310547, 'learning_rate': 0.00011000000000000002, 'epoch': 5.0}\n"
          ]
        },
        {
          "name": "stderr",
          "output_type": "stream",
          "text": [
            " 55%|█████▍    | 120/220 [06:34<05:37,  3.37s/it]"
          ]
        },
        {
          "name": "stdout",
          "output_type": "stream",
          "text": [
            "{'loss': 1.7631, 'grad_norm': 7.283915042877197, 'learning_rate': 0.00012, 'epoch': 5.45}\n"
          ]
        },
        {
          "name": "stderr",
          "output_type": "stream",
          "text": [
            " 59%|█████▉    | 130/220 [07:08<05:05,  3.39s/it]"
          ]
        },
        {
          "name": "stdout",
          "output_type": "stream",
          "text": [
            "{'loss': 1.6403, 'grad_norm': 7.985880374908447, 'learning_rate': 0.00013000000000000002, 'epoch': 5.91}\n"
          ]
        },
        {
          "name": "stderr",
          "output_type": "stream",
          "text": [
            " 64%|██████▎   | 140/220 [07:40<04:27,  3.35s/it]"
          ]
        },
        {
          "name": "stdout",
          "output_type": "stream",
          "text": [
            "{'loss': 1.2775, 'grad_norm': 10.869354248046875, 'learning_rate': 0.00014, 'epoch': 6.36}\n"
          ]
        },
        {
          "name": "stderr",
          "output_type": "stream",
          "text": [
            " 68%|██████▊   | 150/220 [08:13<03:49,  3.28s/it]"
          ]
        },
        {
          "name": "stdout",
          "output_type": "stream",
          "text": [
            "{'loss': 1.1389, 'grad_norm': 5.394808292388916, 'learning_rate': 0.00015000000000000001, 'epoch': 6.82}\n"
          ]
        },
        {
          "name": "stderr",
          "output_type": "stream",
          "text": [
            " 73%|███████▎  | 160/220 [08:45<03:12,  3.20s/it]"
          ]
        },
        {
          "name": "stdout",
          "output_type": "stream",
          "text": [
            "{'loss': 0.8146, 'grad_norm': 4.2445783615112305, 'learning_rate': 0.00016, 'epoch': 7.27}\n"
          ]
        },
        {
          "name": "stderr",
          "output_type": "stream",
          "text": [
            " 77%|███████▋  | 170/220 [09:17<02:43,  3.27s/it]"
          ]
        },
        {
          "name": "stdout",
          "output_type": "stream",
          "text": [
            "{'loss': 0.8599, 'grad_norm': 5.891294479370117, 'learning_rate': 0.00017, 'epoch': 7.73}\n"
          ]
        },
        {
          "name": "stderr",
          "output_type": "stream",
          "text": [
            " 82%|████████▏ | 180/220 [09:49<02:08,  3.22s/it]"
          ]
        },
        {
          "name": "stdout",
          "output_type": "stream",
          "text": [
            "{'loss': 0.7842, 'grad_norm': 7.169764995574951, 'learning_rate': 0.00018, 'epoch': 8.18}\n"
          ]
        },
        {
          "name": "stderr",
          "output_type": "stream",
          "text": [
            " 86%|████████▋ | 190/220 [10:23<01:40,  3.36s/it]"
          ]
        },
        {
          "name": "stdout",
          "output_type": "stream",
          "text": [
            "{'loss': 0.5889, 'grad_norm': 9.728352546691895, 'learning_rate': 0.00019, 'epoch': 8.64}\n"
          ]
        },
        {
          "name": "stderr",
          "output_type": "stream",
          "text": [
            " 91%|█████████ | 200/220 [10:55<01:02,  3.12s/it]"
          ]
        },
        {
          "name": "stdout",
          "output_type": "stream",
          "text": [
            "{'loss': 0.6347, 'grad_norm': 5.034736156463623, 'learning_rate': 0.0002, 'epoch': 9.09}\n"
          ]
        },
        {
          "name": "stderr",
          "output_type": "stream",
          "text": [
            " 95%|█████████▌| 210/220 [11:28<00:33,  3.32s/it]"
          ]
        },
        {
          "name": "stdout",
          "output_type": "stream",
          "text": [
            "{'loss': 0.8038, 'grad_norm': 15.599231719970703, 'learning_rate': 0.0001, 'epoch': 9.55}\n"
          ]
        },
        {
          "name": "stderr",
          "output_type": "stream",
          "text": [
            "100%|██████████| 220/220 [12:00<00:00,  3.01s/it]"
          ]
        },
        {
          "name": "stdout",
          "output_type": "stream",
          "text": [
            "{'loss': 0.4205, 'grad_norm': 6.276097297668457, 'learning_rate': 0.0, 'epoch': 10.0}\n"
          ]
        },
        {
          "name": "stderr",
          "output_type": "stream",
          "text": [
            "100%|██████████| 220/220 [12:01<00:00,  3.28s/it]"
          ]
        },
        {
          "name": "stdout",
          "output_type": "stream",
          "text": [
            "{'train_runtime': 721.6616, 'train_samples_per_second': 4.794, 'train_steps_per_second': 0.305, 'train_loss': 1.777531571821733, 'epoch': 10.0}\n"
          ]
        },
        {
          "name": "stderr",
          "output_type": "stream",
          "text": [
            "\n"
          ]
        },
        {
          "data": {
            "image/png": "[encoded data removed]",
            "text/plain": [
              "<Figure size 1000x500 with 1 Axes>"
            ]
          },
          "metadata": {},
          "output_type": "display_data"
        }
      ],
      "source": [
        "import matplotlib.pyplot as plt\n",
        "from transformers import TrainerCallback\n",
        "\n",
        "class LogLossCallback(TrainerCallback):\n",
        "    def __init__(self):\n",
        "        self.losses = []\n",
        "\n",
        "    def on_log(self, args, state, control, logs=None, **kwargs):\n",
        "        if logs is not None and 'loss' in logs:\n",
        "            self.losses.append(logs['loss'])\n",
        "\n",
        "log_loss_callback = LogLossCallback()\n",
        "\n",
        "trainer.add_callback(log_loss_callback)\n",
        "trainer.train()\n",
        "\n",
        "plt.figure(figsize=(10, 5))\n",
        "plt.plot(log_loss_callback.losses, label='Training Loss')\n",
        "plt.title('Training Loss Over Time')\n",
        "plt.xlabel('Steps')\n",
        "plt.ylabel('Loss')\n",
        "plt.legend()\n",
        "plt.grid()\n",
        "plt.show()\n"
      ]
    },
    {
      "cell_type": "code",
      "execution_count": 13,
      "metadata": {},
      "outputs": [
        {
          "name": "stderr",
          "output_type": "stream",
          "text": [
            "100%|██████████| 12/12 [00:08<00:00,  1.41it/s]\n"
          ]
        },
        {
          "data": {
            "text/plain": [
              "{'eval_loss': 0.5842763185501099,\n",
              " 'eval_runtime': 9.5465,\n",
              " 'eval_samples_per_second': 18.75,\n",
              " 'eval_steps_per_second': 1.257,\n",
              " 'epoch': 10.0}"
            ]
          },
          "execution_count": 13,
          "metadata": {},
          "output_type": "execute_result"
        }
      ],
      "source": [
        "trainer.evaluate()"
      ]
    },
    {
      "cell_type": "code",
      "execution_count": 14,
      "metadata": {},
      "outputs": [
        {
          "name": "stderr",
          "output_type": "stream",
          "text": [
            "100%|██████████| 12/12 [00:08<00:00,  1.43it/s]\n"
          ]
        }
      ],
      "source": [
        "predictions = trainer.predict(test_dataset)\n",
        "\n",
        "y_pred = predictions.predictions.argmax(-1)\n"
      ]
    },
    {
      "cell_type": "code",
      "execution_count": 15,
      "metadata": {},
      "outputs": [],
      "source": [
        "y_true = test_data['label'].tolist()"
      ]
    },
    {
      "cell_type": "code",
      "execution_count": 16,
      "metadata": {},
      "outputs": [
        {
          "name": "stdout",
          "output_type": "stream",
          "text": [
            "Accuracy: 0.7653631284916201\n",
            "Precision: 0.7694190951592268\n",
            "Recall: 0.7653631284916201\n",
            "F1 Score: 0.7494882504368204\n"
          ]
        }
      ],
      "source": [
        "from sklearn.metrics import accuracy_score, precision_score, recall_score, f1_score\n",
        "\n",
        "accuracy = accuracy_score(y_true, y_pred)\n",
        "precision = precision_score(y_true, y_pred, average='macro', zero_division=0)\n",
        "recall = recall_score(y_true, y_pred, average='weighted')\n",
        "f1 = f1_score(y_true, y_pred, average='weighted')\n",
        "\n",
        "print(f\"Accuracy: {accuracy}\")\n",
        "print(f\"Precision: {precision}\")\n",
        "print(f\"Recall: {recall}\")\n",
        "print(f\"F1 Score: {f1}\")"
      ]
    },
    {
      "cell_type": "markdown",
      "metadata": {
        "id": "IokP0xYAy9F3"
      },
      "source": [
        "**Как представить результат ?**\n",
        "\n",
        "Jupyter notebook, желательно один с обоими частями задачи и обязательно содержащий наглядную демонстрацию результатов - примеры сгенерированных диалогов для каждого класса, обучающие и тестовые метрики оубчения классификатора."
      ]
    },
    {
      "cell_type": "code",
      "execution_count": 18,
      "metadata": {},
      "outputs": [
        {
          "name": "stdout",
          "output_type": "stream",
          "text": [
            "Предсказанный класс: 5\n",
            "Вероятности для каждого класса: [[3.2629645e-03 4.5582145e-01 9.2210359e-04 4.5499713e-03 1.4689097e-03\n",
            "  5.0742990e-01 2.7056255e-03 7.6329935e-04 1.8608627e-03 1.1818373e-03\n",
            "  1.0882800e-03 8.1639923e-03 1.5746037e-04 7.5342888e-03 4.6512077e-04\n",
            "  2.6238617e-03]]\n"
          ]
        }
      ],
      "source": [
        "tokenizer = BertTokenizer.from_pretrained('bert-base-uncased')\n",
        "model = trainer.model\n",
        "new_dialog = \"user: Когда мне одобрят кредит?\"\n",
        "\n",
        "inputs = tokenizer(new_dialog, return_tensors='pt', padding=True, truncation=True, max_length=128)\n",
        "\n",
        "with torch.no_grad():\n",
        "    outputs = model(**inputs)\n",
        "\n",
        "logits = outputs.logits\n",
        "\n",
        "probabilities = torch.nn.functional.softmax(logits, dim=-1)\n",
        "\n",
        "predicted_class = torch.argmax(probabilities, dim=-1)\n",
        "\n",
        "print(f\"Предсказанный класс: {predicted_class.item()}\")\n",
        "print(f\"Вероятности для каждого класса: {probabilities.numpy()}\")"
      ]
    },
    {
      "cell_type": "code",
      "execution_count": 19,
      "metadata": {},
      "outputs": [
        {
          "name": "stdout",
          "output_type": "stream",
          "text": [
            "Карта соответствий:\n",
            "Класс: transfer_status, Код: 0\n",
            "Класс: loan_query, Код: 1\n",
            "Класс: account_balance, Код: 2\n",
            "Класс: credit_card_limit, Код: 3\n",
            "Класс: money_transfer, Код: 4\n",
            "Класс: loan_approval, Код: 5\n",
            "Класс: payment_issue, Код: 6\n",
            "Класс: bank_branch_hours, Код: 7\n",
            "Класс: credit_card_application, Код: 8\n",
            "Класс: transaction_history, Код: 9\n",
            "Класс: savings_account, Код: 10\n",
            "Класс: loan_interest_rate, Код: 11\n",
            "Класс: debit_card_issue, Код: 12\n",
            "Класс: financial_advice, Код: 13\n",
            "Класс: insurance_query, Код: 14\n",
            "Класс: credit_score, Код: 15\n"
          ]
        }
      ],
      "source": [
        "print(\"Карта соответствий:\")\n",
        "for label, code in label_to_code.items():\n",
        "    print(f\"Класс: {label}, Код: {code}\")"
      ]
    },
    {
      "cell_type": "code",
      "execution_count": null,
      "metadata": {},
      "outputs": [],
      "source": []
    }
  ],
  "metadata": {
    "colab": {
      "provenance": []
    },
    "kernelspec": {
      "display_name": "Python 3",
      "name": "python3"
    },
    "language_info": {
      "codemirror_mode": {
        "name": "ipython",
        "version": 3
      },
      "file_extension": ".py",
      "mimetype": "text/x-python",
      "name": "python",
      "nbconvert_exporter": "python",
      "pygments_lexer": "ipython3",
      "version": "3.12.2"
    }
  },
  "nbformat": 4,
  "nbformat_minor": 0
}
